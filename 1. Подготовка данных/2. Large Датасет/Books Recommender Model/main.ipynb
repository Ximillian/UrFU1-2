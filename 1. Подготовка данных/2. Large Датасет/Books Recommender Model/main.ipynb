{
 "cells": [
  {
   "cell_type": "code",
   "execution_count": 2,
   "id": "fdddb4d7",
   "metadata": {},
   "outputs": [
    {
     "name": "stderr",
     "output_type": "stream",
     "text": [
      "/Users/daniel/Desktop/AI/Book_Recom/Books_Recommender_Model/myenv/lib/python3.11/site-packages/tqdm/auto.py:21: TqdmWarning: IProgress not found. Please update jupyter and ipywidgets. See https://ipywidgets.readthedocs.io/en/stable/user_install.html\n",
      "  from .autonotebook import tqdm as notebook_tqdm\n"
     ]
    }
   ],
   "source": [
    "from langchain_huggingface import HuggingFaceEmbeddings\n",
    "from langchain_chroma import Chroma\n",
    "from transformers import pipeline\n",
    "import pandas as pd"
   ]
  },
  {
   "cell_type": "code",
   "execution_count": 3,
   "id": "8e895c48",
   "metadata": {},
   "outputs": [],
   "source": [
    "books = pd.read_csv(\"Books_FINISH_04-05-25.csv\")"
   ]
  },
  {
   "cell_type": "code",
   "execution_count": null,
   "id": "b4821707",
   "metadata": {},
   "outputs": [],
   "source": [
    "\n",
    "       # Загрузка эмбеддингов\n",
    "embeddings = HuggingFaceEmbeddings(\n",
    "    model_name =  \"sentence-transformers/paraphrase-multilingual-MiniLM-L12-v2\"\n",
    ")\n",
    "    # Инициализация Chroma\n",
    "db_books = Chroma(\n",
    "    persist_directory = \"/Users/daniel/Desktop/AI/Book_Recom/Books_Recommender_Model/chroma_db\",\n",
    "    embedding_function = embeddings\n",
    ")\n",
    "db_books.get()"
   ]
  },
  {
   "cell_type": "code",
   "execution_count": 3,
   "id": "9adcf05a",
   "metadata": {},
   "outputs": [],
   "source": [
    "def retrieve_semantic_recommendations(query: str, top_k: int = 7) -> pd.DataFrame:\n",
    "    recs = db_books.similarity_search(query, top_k)\n",
    "    books_list = []\n",
    "    for i in range(0, len(recs)):\n",
    "        books_list += [int(recs[i].page_content.strip('\"').split()[0])] # Для каждой рекомендации производится изъятие уникального идентификатора\n",
    "        isbned = books[books[\"Number\"].isin(books_list)]                # По идентификатору фильтруется books data frame\n",
    "    return isbned.sort_values(by ='Rating', ascending = False)"
   ]
  },
  {
   "cell_type": "code",
   "execution_count": null,
   "id": "01bd4606",
   "metadata": {},
   "outputs": [],
   "source": [
    "retrieve_semantic_recommendations(input())"
   ]
  }
 ],
 "metadata": {
  "kernelspec": {
   "display_name": "myenv",
   "language": "python",
   "name": "python3"
  },
  "language_info": {
   "codemirror_mode": {
    "name": "ipython",
    "version": 3
   },
   "file_extension": ".py",
   "mimetype": "text/x-python",
   "name": "python",
   "nbconvert_exporter": "python",
   "pygments_lexer": "ipython3",
   "version": "3.11.5"
  }
 },
 "nbformat": 4,
 "nbformat_minor": 5
}
