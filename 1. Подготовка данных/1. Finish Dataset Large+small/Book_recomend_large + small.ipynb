{
 "cells": [
  {
   "cell_type": "markdown",
   "metadata": {},
   "source": [
    "### Объединение датасетов"
   ]
  },
  {
   "cell_type": "code",
   "execution_count": 1,
   "metadata": {},
   "outputs": [],
   "source": [
    "import pandas as pd\n",
    "import matplotlib as mpl\n",
    "import matplotlib.pyplot as plt \n",
    "import numpy as np\n",
    "import seaborn as sns"
   ]
  },
  {
   "cell_type": "code",
   "execution_count": 10,
   "metadata": {},
   "outputs": [],
   "source": [
    "# Загрузим датасет №1\n",
    "processed_data = pd.read_csv('Data/Books_large_FINISH.csv')\n",
    "\n",
    "df_large = pd.DataFrame(processed_data)\n",
    "\n",
    "# Загрузим датасет №2\n",
    "processed_data = pd.read_csv('Data/Books_small_FINISH.csv')\n",
    "\n",
    "df_small = pd.DataFrame(processed_data)"
   ]
  },
  {
   "cell_type": "code",
   "execution_count": 11,
   "metadata": {},
   "outputs": [
    {
     "data": {
      "text/html": [
       "<div>\n",
       "<style scoped>\n",
       "    .dataframe tbody tr th:only-of-type {\n",
       "        vertical-align: middle;\n",
       "    }\n",
       "\n",
       "    .dataframe tbody tr th {\n",
       "        vertical-align: top;\n",
       "    }\n",
       "\n",
       "    .dataframe thead th {\n",
       "        text-align: right;\n",
       "    }\n",
       "</style>\n",
       "<table border=\"1\" class=\"dataframe\">\n",
       "  <thead>\n",
       "    <tr style=\"text-align: right;\">\n",
       "      <th></th>\n",
       "      <th>Title</th>\n",
       "      <th>Authors</th>\n",
       "      <th>Description</th>\n",
       "      <th>Rating</th>\n",
       "      <th>Category</th>\n",
       "      <th>Link</th>\n",
       "    </tr>\n",
       "  </thead>\n",
       "  <tbody>\n",
       "    <tr>\n",
       "      <th>6271</th>\n",
       "      <td>Wasteland Vol. 1</td>\n",
       "      <td>Antony Johnston</td>\n",
       "      <td>A hundred years after the Big Wet, Earth has b...</td>\n",
       "      <td>3.56</td>\n",
       "      <td>Mystery</td>\n",
       "      <td>http://books.google.com/books/content?id=8K7CP...</td>\n",
       "    </tr>\n",
       "  </tbody>\n",
       "</table>\n",
       "</div>"
      ],
      "text/plain": [
       "                 Title          Authors  \\\n",
       "6271  Wasteland Vol. 1  Antony Johnston   \n",
       "\n",
       "                                            Description  Rating Category  \\\n",
       "6271  A hundred years after the Big Wet, Earth has b...    3.56  Mystery   \n",
       "\n",
       "                                                   Link  \n",
       "6271  http://books.google.com/books/content?id=8K7CP...  "
      ]
     },
     "execution_count": 11,
     "metadata": {},
     "output_type": "execute_result"
    }
   ],
   "source": [
    "df_small.sample(1)"
   ]
  },
  {
   "cell_type": "code",
   "execution_count": 12,
   "metadata": {},
   "outputs": [
    {
     "data": {
      "text/html": [
       "<div>\n",
       "<style scoped>\n",
       "    .dataframe tbody tr th:only-of-type {\n",
       "        vertical-align: middle;\n",
       "    }\n",
       "\n",
       "    .dataframe tbody tr th {\n",
       "        vertical-align: top;\n",
       "    }\n",
       "\n",
       "    .dataframe thead th {\n",
       "        text-align: right;\n",
       "    }\n",
       "</style>\n",
       "<table border=\"1\" class=\"dataframe\">\n",
       "  <thead>\n",
       "    <tr style=\"text-align: right;\">\n",
       "      <th></th>\n",
       "      <th>Title</th>\n",
       "      <th>Authors</th>\n",
       "      <th>Description</th>\n",
       "      <th>Rating</th>\n",
       "      <th>Category</th>\n",
       "      <th>Link</th>\n",
       "    </tr>\n",
       "  </thead>\n",
       "  <tbody>\n",
       "    <tr>\n",
       "      <th>14742</th>\n",
       "      <td>Atlas of Satellite Observations Related to Glo...</td>\n",
       "      <td>By Gurney, R. J. (EDT), Foster, John L. (EDT),...</td>\n",
       "      <td>This timely volume provides an illustration of...</td>\n",
       "      <td>4.06</td>\n",
       "      <td>Adventure</td>\n",
       "      <td>https://raw.github.com/Kosty1703/pictures/main...</td>\n",
       "    </tr>\n",
       "  </tbody>\n",
       "</table>\n",
       "</div>"
      ],
      "text/plain": [
       "                                                   Title  \\\n",
       "14742  Atlas of Satellite Observations Related to Glo...   \n",
       "\n",
       "                                                 Authors  \\\n",
       "14742  By Gurney, R. J. (EDT), Foster, John L. (EDT),...   \n",
       "\n",
       "                                             Description  Rating   Category  \\\n",
       "14742  This timely volume provides an illustration of...    4.06  Adventure   \n",
       "\n",
       "                                                    Link  \n",
       "14742  https://raw.github.com/Kosty1703/pictures/main...  "
      ]
     },
     "execution_count": 12,
     "metadata": {},
     "output_type": "execute_result"
    }
   ],
   "source": [
    "df_large.sample(1)"
   ]
  },
  {
   "cell_type": "code",
   "execution_count": 13,
   "metadata": {},
   "outputs": [
    {
     "name": "stdout",
     "output_type": "stream",
     "text": [
      "<class 'pandas.core.frame.DataFrame'>\n",
      "RangeIndex: 6313 entries, 0 to 6312\n",
      "Data columns (total 6 columns):\n",
      " #   Column       Non-Null Count  Dtype  \n",
      "---  ------       --------------  -----  \n",
      " 0   Title        6313 non-null   object \n",
      " 1   Authors      6313 non-null   object \n",
      " 2   Description  6313 non-null   object \n",
      " 3   Rating       6313 non-null   float64\n",
      " 4   Category     6313 non-null   object \n",
      " 5   Link         6313 non-null   object \n",
      "dtypes: float64(1), object(5)\n",
      "memory usage: 296.1+ KB\n"
     ]
    }
   ],
   "source": [
    "df_small.info()"
   ]
  },
  {
   "cell_type": "code",
   "execution_count": 14,
   "metadata": {},
   "outputs": [
    {
     "name": "stdout",
     "output_type": "stream",
     "text": [
      "<class 'pandas.core.frame.DataFrame'>\n",
      "RangeIndex: 67508 entries, 0 to 67507\n",
      "Data columns (total 6 columns):\n",
      " #   Column       Non-Null Count  Dtype  \n",
      "---  ------       --------------  -----  \n",
      " 0   Title        67508 non-null  object \n",
      " 1   Authors      67508 non-null  object \n",
      " 2   Description  67508 non-null  object \n",
      " 3   Rating       67508 non-null  float64\n",
      " 4   Category     67508 non-null  object \n",
      " 5   Link         67508 non-null  object \n",
      "dtypes: float64(1), object(5)\n",
      "memory usage: 3.1+ MB\n"
     ]
    }
   ],
   "source": [
    "df_large.info()"
   ]
  },
  {
   "cell_type": "code",
   "execution_count": 15,
   "metadata": {},
   "outputs": [],
   "source": [
    "# Объеденим датасеты в один\n",
    "df_small_large = pd.concat([df_large, df_small], ignore_index=True)"
   ]
  },
  {
   "cell_type": "code",
   "execution_count": 16,
   "metadata": {},
   "outputs": [
    {
     "data": {
      "text/html": [
       "<div>\n",
       "<style scoped>\n",
       "    .dataframe tbody tr th:only-of-type {\n",
       "        vertical-align: middle;\n",
       "    }\n",
       "\n",
       "    .dataframe tbody tr th {\n",
       "        vertical-align: top;\n",
       "    }\n",
       "\n",
       "    .dataframe thead th {\n",
       "        text-align: right;\n",
       "    }\n",
       "</style>\n",
       "<table border=\"1\" class=\"dataframe\">\n",
       "  <thead>\n",
       "    <tr style=\"text-align: right;\">\n",
       "      <th></th>\n",
       "      <th>Title</th>\n",
       "      <th>Authors</th>\n",
       "      <th>Description</th>\n",
       "      <th>Rating</th>\n",
       "      <th>Category</th>\n",
       "      <th>Link</th>\n",
       "    </tr>\n",
       "  </thead>\n",
       "  <tbody>\n",
       "    <tr>\n",
       "      <th>36671</th>\n",
       "      <td>Tender Mercy for a Mother's Soul: Inspiration ...</td>\n",
       "      <td>By Guffey, Angela Thomas</td>\n",
       "      <td>Sometimes moms get so caught up in caring for ...</td>\n",
       "      <td>3.85</td>\n",
       "      <td>Self-help</td>\n",
       "      <td>https://raw.github.com/Kosty1703/pictures/main...</td>\n",
       "    </tr>\n",
       "  </tbody>\n",
       "</table>\n",
       "</div>"
      ],
      "text/plain": [
       "                                                   Title  \\\n",
       "36671  Tender Mercy for a Mother's Soul: Inspiration ...   \n",
       "\n",
       "                        Authors  \\\n",
       "36671  By Guffey, Angela Thomas   \n",
       "\n",
       "                                             Description  Rating   Category  \\\n",
       "36671  Sometimes moms get so caught up in caring for ...    3.85  Self-help   \n",
       "\n",
       "                                                    Link  \n",
       "36671  https://raw.github.com/Kosty1703/pictures/main...  "
      ]
     },
     "execution_count": 16,
     "metadata": {},
     "output_type": "execute_result"
    }
   ],
   "source": [
    "df_small_large.sample(1)"
   ]
  },
  {
   "cell_type": "code",
   "execution_count": 17,
   "metadata": {},
   "outputs": [
    {
     "name": "stdout",
     "output_type": "stream",
     "text": [
      "<class 'pandas.core.frame.DataFrame'>\n",
      "RangeIndex: 73821 entries, 0 to 73820\n",
      "Data columns (total 6 columns):\n",
      " #   Column       Non-Null Count  Dtype  \n",
      "---  ------       --------------  -----  \n",
      " 0   Title        73821 non-null  object \n",
      " 1   Authors      73821 non-null  object \n",
      " 2   Description  73821 non-null  object \n",
      " 3   Rating       73821 non-null  float64\n",
      " 4   Category     73821 non-null  object \n",
      " 5   Link         73821 non-null  object \n",
      "dtypes: float64(1), object(5)\n",
      "memory usage: 3.4+ MB\n"
     ]
    }
   ],
   "source": [
    "df_small_large.info()"
   ]
  },
  {
   "cell_type": "code",
   "execution_count": 18,
   "metadata": {},
   "outputs": [],
   "source": [
    "# Сохраним итоговый датасет\n",
    "df_small_large.to_csv(\"Books_FINISH.csv\", index=False)"
   ]
  }
 ],
 "metadata": {
  "kernelspec": {
   "display_name": "Python 3",
   "language": "python",
   "name": "python3"
  },
  "language_info": {
   "codemirror_mode": {
    "name": "ipython",
    "version": 3
   },
   "file_extension": ".py",
   "mimetype": "text/x-python",
   "name": "python",
   "nbconvert_exporter": "python",
   "pygments_lexer": "ipython3",
   "version": "3.12.4"
  }
 },
 "nbformat": 4,
 "nbformat_minor": 2
}
