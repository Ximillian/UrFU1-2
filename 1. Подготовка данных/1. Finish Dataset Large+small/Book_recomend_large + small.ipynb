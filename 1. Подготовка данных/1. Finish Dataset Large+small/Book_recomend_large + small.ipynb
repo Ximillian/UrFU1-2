{
 "cells": [
  {
   "cell_type": "markdown",
   "metadata": {},
   "source": [
    "### Объединение датасетов"
   ]
  },
  {
   "cell_type": "code",
   "execution_count": 11,
   "metadata": {},
   "outputs": [],
   "source": [
    "import pandas as pd\n",
    "import matplotlib as mpl\n",
    "import matplotlib.pyplot as plt \n",
    "import numpy as np\n",
    "import seaborn as sns"
   ]
  },
  {
   "cell_type": "code",
   "execution_count": 12,
   "metadata": {},
   "outputs": [],
   "source": [
    "# Загрузим датасет №1\n",
    "processed_data = pd.read_csv('Book_recom_large_FINISH_04_05_2025.csv')\n",
    "\n",
    "df_large = pd.DataFrame(processed_data)\n",
    "\n",
    "# Загрузим датасет №2\n",
    "processed_data = pd.read_csv('Book_recom_small_FINISH_02_05_2025.csv')\n",
    "\n",
    "df_small = pd.DataFrame(processed_data)"
   ]
  },
  {
   "cell_type": "code",
   "execution_count": 13,
   "metadata": {},
   "outputs": [
    {
     "data": {
      "text/html": [
       "<div>\n",
       "<style scoped>\n",
       "    .dataframe tbody tr th:only-of-type {\n",
       "        vertical-align: middle;\n",
       "    }\n",
       "\n",
       "    .dataframe tbody tr th {\n",
       "        vertical-align: top;\n",
       "    }\n",
       "\n",
       "    .dataframe thead th {\n",
       "        text-align: right;\n",
       "    }\n",
       "</style>\n",
       "<table border=\"1\" class=\"dataframe\">\n",
       "  <thead>\n",
       "    <tr style=\"text-align: right;\">\n",
       "      <th></th>\n",
       "      <th>Authors</th>\n",
       "      <th>Link</th>\n",
       "      <th>Description</th>\n",
       "      <th>Rating</th>\n",
       "      <th>Title</th>\n",
       "      <th>Category</th>\n",
       "      <th>Number</th>\n",
       "      <th>Number_Description</th>\n",
       "    </tr>\n",
       "  </thead>\n",
       "  <tbody>\n",
       "    <tr>\n",
       "      <th>1370</th>\n",
       "      <td>Cormac McCarthy</td>\n",
       "      <td>http://books.google.com/books/content?id=UYsaQ...</td>\n",
       "      <td>Set in a small, remote community in rural Tenn...</td>\n",
       "      <td>3.55</td>\n",
       "      <td>The Orchard Keeper</td>\n",
       "      <td>Fiction</td>\n",
       "      <td>2352</td>\n",
       "      <td>2352 Set in a small, remote community in rural...</td>\n",
       "    </tr>\n",
       "  </tbody>\n",
       "</table>\n",
       "</div>"
      ],
      "text/plain": [
       "              Authors                                               Link  \\\n",
       "1370  Cormac McCarthy  http://books.google.com/books/content?id=UYsaQ...   \n",
       "\n",
       "                                            Description  Rating  \\\n",
       "1370  Set in a small, remote community in rural Tenn...    3.55   \n",
       "\n",
       "                   Title Category  Number  \\\n",
       "1370  The Orchard Keeper  Fiction    2352   \n",
       "\n",
       "                                     Number_Description  \n",
       "1370  2352 Set in a small, remote community in rural...  "
      ]
     },
     "execution_count": 13,
     "metadata": {},
     "output_type": "execute_result"
    }
   ],
   "source": [
    "df_small.sample(1)"
   ]
  },
  {
   "cell_type": "code",
   "execution_count": 14,
   "metadata": {},
   "outputs": [
    {
     "data": {
      "text/html": [
       "<div>\n",
       "<style scoped>\n",
       "    .dataframe tbody tr th:only-of-type {\n",
       "        vertical-align: middle;\n",
       "    }\n",
       "\n",
       "    .dataframe tbody tr th {\n",
       "        vertical-align: top;\n",
       "    }\n",
       "\n",
       "    .dataframe thead th {\n",
       "        text-align: right;\n",
       "    }\n",
       "</style>\n",
       "<table border=\"1\" class=\"dataframe\">\n",
       "  <thead>\n",
       "    <tr style=\"text-align: right;\">\n",
       "      <th></th>\n",
       "      <th>Title</th>\n",
       "      <th>Authors</th>\n",
       "      <th>Description</th>\n",
       "      <th>Rating</th>\n",
       "      <th>Category</th>\n",
       "      <th>Link</th>\n",
       "      <th>Number</th>\n",
       "      <th>Number_Description</th>\n",
       "    </tr>\n",
       "  </thead>\n",
       "  <tbody>\n",
       "    <tr>\n",
       "      <th>13735</th>\n",
       "      <td>Donna Dewberry's One Stroke Painting Course</td>\n",
       "      <td>By Dewberry, Donna S</td>\n",
       "      <td>Designer Donna Dewberry, one of the most innov...</td>\n",
       "      <td>4.13</td>\n",
       "      <td>Self-help</td>\n",
       "      <td>https://raw.github.com/Kosty1703/picture-book/...</td>\n",
       "      <td>18865</td>\n",
       "      <td>18865 Designer Donna Dewberry, one of the most...</td>\n",
       "    </tr>\n",
       "  </tbody>\n",
       "</table>\n",
       "</div>"
      ],
      "text/plain": [
       "                                             Title               Authors  \\\n",
       "13735  Donna Dewberry's One Stroke Painting Course  By Dewberry, Donna S   \n",
       "\n",
       "                                             Description  Rating   Category  \\\n",
       "13735  Designer Donna Dewberry, one of the most innov...    4.13  Self-help   \n",
       "\n",
       "                                                    Link  Number  \\\n",
       "13735  https://raw.github.com/Kosty1703/picture-book/...   18865   \n",
       "\n",
       "                                      Number_Description  \n",
       "13735  18865 Designer Donna Dewberry, one of the most...  "
      ]
     },
     "execution_count": 14,
     "metadata": {},
     "output_type": "execute_result"
    }
   ],
   "source": [
    "df_large.sample(1)"
   ]
  },
  {
   "cell_type": "code",
   "execution_count": 15,
   "metadata": {},
   "outputs": [
    {
     "name": "stdout",
     "output_type": "stream",
     "text": [
      "<class 'pandas.core.frame.DataFrame'>\n",
      "RangeIndex: 5048 entries, 0 to 5047\n",
      "Data columns (total 8 columns):\n",
      " #   Column              Non-Null Count  Dtype  \n",
      "---  ------              --------------  -----  \n",
      " 0   Authors             5048 non-null   object \n",
      " 1   Link                5048 non-null   object \n",
      " 2   Description         5048 non-null   object \n",
      " 3   Rating              5048 non-null   float64\n",
      " 4   Title               5048 non-null   object \n",
      " 5   Category            5048 non-null   object \n",
      " 6   Number              5048 non-null   int64  \n",
      " 7   Number_Description  5048 non-null   object \n",
      "dtypes: float64(1), int64(1), object(6)\n",
      "memory usage: 315.6+ KB\n"
     ]
    }
   ],
   "source": [
    "df_small.info()"
   ]
  },
  {
   "cell_type": "code",
   "execution_count": 22,
   "metadata": {},
   "outputs": [
    {
     "name": "stdout",
     "output_type": "stream",
     "text": [
      "Authors               3040\n",
      "Link                  4916\n",
      "Description           5048\n",
      "Rating                 194\n",
      "Title                 4980\n",
      "Category                24\n",
      "Number                5048\n",
      "Number_Description    5048\n",
      "dtype: int64\n"
     ]
    }
   ],
   "source": [
    "print(df_small.nunique())"
   ]
  },
  {
   "cell_type": "code",
   "execution_count": 16,
   "metadata": {},
   "outputs": [
    {
     "name": "stdout",
     "output_type": "stream",
     "text": [
      "<class 'pandas.core.frame.DataFrame'>\n",
      "RangeIndex: 57854 entries, 0 to 57853\n",
      "Data columns (total 8 columns):\n",
      " #   Column              Non-Null Count  Dtype  \n",
      "---  ------              --------------  -----  \n",
      " 0   Title               57854 non-null  object \n",
      " 1   Authors             57854 non-null  object \n",
      " 2   Description         57854 non-null  object \n",
      " 3   Rating              57854 non-null  float64\n",
      " 4   Category            57854 non-null  object \n",
      " 5   Link                57854 non-null  object \n",
      " 6   Number              57854 non-null  int64  \n",
      " 7   Number_Description  57854 non-null  object \n",
      "dtypes: float64(1), int64(1), object(6)\n",
      "memory usage: 3.5+ MB\n"
     ]
    }
   ],
   "source": [
    "df_large.info()"
   ]
  },
  {
   "cell_type": "code",
   "execution_count": 21,
   "metadata": {},
   "outputs": [
    {
     "name": "stdout",
     "output_type": "stream",
     "text": [
      "Title                 57234\n",
      "Authors               36052\n",
      "Description           57854\n",
      "Rating                  204\n",
      "Category                 24\n",
      "Link                     24\n",
      "Number                57854\n",
      "Number_Description    57854\n",
      "dtype: int64\n"
     ]
    }
   ],
   "source": [
    "print(df_large.nunique())"
   ]
  },
  {
   "cell_type": "code",
   "execution_count": 17,
   "metadata": {},
   "outputs": [],
   "source": [
    "# Объеденим датасеты в один\n",
    "df_small_large = pd.concat([df_large, df_small], ignore_index=True)"
   ]
  },
  {
   "cell_type": "code",
   "execution_count": 18,
   "metadata": {},
   "outputs": [
    {
     "data": {
      "text/html": [
       "<div>\n",
       "<style scoped>\n",
       "    .dataframe tbody tr th:only-of-type {\n",
       "        vertical-align: middle;\n",
       "    }\n",
       "\n",
       "    .dataframe tbody tr th {\n",
       "        vertical-align: top;\n",
       "    }\n",
       "\n",
       "    .dataframe thead th {\n",
       "        text-align: right;\n",
       "    }\n",
       "</style>\n",
       "<table border=\"1\" class=\"dataframe\">\n",
       "  <thead>\n",
       "    <tr style=\"text-align: right;\">\n",
       "      <th></th>\n",
       "      <th>Title</th>\n",
       "      <th>Authors</th>\n",
       "      <th>Description</th>\n",
       "      <th>Rating</th>\n",
       "      <th>Category</th>\n",
       "      <th>Link</th>\n",
       "      <th>Number</th>\n",
       "      <th>Number_Description</th>\n",
       "    </tr>\n",
       "  </thead>\n",
       "  <tbody>\n",
       "    <tr>\n",
       "      <th>51901</th>\n",
       "      <td>Daily Learning Drills Grade 4</td>\n",
       "      <td>By Douglas, Vincent</td>\n",
       "      <td>Daily Learning Drills Grade 4 provides young l...</td>\n",
       "      <td>4.61</td>\n",
       "      <td>Nonfiction</td>\n",
       "      <td>https://raw.github.com/Kosty1703/picture-book/...</td>\n",
       "      <td>11134</td>\n",
       "      <td>11134 Daily Learning Drills Grade 4 provides y...</td>\n",
       "    </tr>\n",
       "    <tr>\n",
       "      <th>53513</th>\n",
       "      <td>44 Charles Street: A Novel</td>\n",
       "      <td>By Steel, Danielle</td>\n",
       "      <td>A magical transformation takes place in Daniel...</td>\n",
       "      <td>4.49</td>\n",
       "      <td>Biography</td>\n",
       "      <td>https://raw.github.com/Kosty1703/picture-book/...</td>\n",
       "      <td>31788</td>\n",
       "      <td>31788 A magical transformation takes place in ...</td>\n",
       "    </tr>\n",
       "    <tr>\n",
       "      <th>41879</th>\n",
       "      <td>Whales on Stilts: M. T. Anderson's Thrilling T...</td>\n",
       "      <td>By Anderson, M. T. and Cyrus, Kurt (ILT)</td>\n",
       "      <td>What sort of madman would unleash an army of s...</td>\n",
       "      <td>4.47</td>\n",
       "      <td>Fiction</td>\n",
       "      <td>https://raw.github.com/Kosty1703/picture-book/...</td>\n",
       "      <td>17567</td>\n",
       "      <td>17567 What sort of madman would unleash an arm...</td>\n",
       "    </tr>\n",
       "    <tr>\n",
       "      <th>45846</th>\n",
       "      <td>Georgia's Land of the Golden Isles (Brown Thra...</td>\n",
       "      <td>By Vanstory, Burnette Lightle and Price, Eugen...</td>\n",
       "      <td>Since it first appeared in 1956, Mrs. Vanstory...</td>\n",
       "      <td>4.49</td>\n",
       "      <td>History</td>\n",
       "      <td>https://raw.github.com/Kosty1703/picture-book/...</td>\n",
       "      <td>30662</td>\n",
       "      <td>30662 Since it first appeared in 1956, Mrs. Va...</td>\n",
       "    </tr>\n",
       "    <tr>\n",
       "      <th>55365</th>\n",
       "      <td>Life: Places of the Bible: A Photographic Pilg...</td>\n",
       "      <td>By Sullivan, Robert (EDT)</td>\n",
       "      <td>In this special keepsake volume, LIFE takes yo...</td>\n",
       "      <td>4.44</td>\n",
       "      <td>Religion</td>\n",
       "      <td>https://raw.github.com/Kosty1703/picture-book/...</td>\n",
       "      <td>19988</td>\n",
       "      <td>19988 In this special keepsake volume, LIFE ta...</td>\n",
       "    </tr>\n",
       "    <tr>\n",
       "      <th>6258</th>\n",
       "      <td>Beyond The Far Side (Volume 2)</td>\n",
       "      <td>By Larson, Gary</td>\n",
       "      <td>The second The Far Side collection.1981, 1983 ...</td>\n",
       "      <td>5.00</td>\n",
       "      <td>Art &amp; Culture</td>\n",
       "      <td>https://raw.github.com/Kosty1703/picture-book/...</td>\n",
       "      <td>28934</td>\n",
       "      <td>28934 The second The Far Side collection.1981,...</td>\n",
       "    </tr>\n",
       "    <tr>\n",
       "      <th>49537</th>\n",
       "      <td>Crazy Plates: Low-Fat Food So Good, You'll Swe...</td>\n",
       "      <td>By Podleski, Janet and Podleski, Greta</td>\n",
       "      <td>The best-selling authors of Looneyspoons prese...</td>\n",
       "      <td>4.20</td>\n",
       "      <td>Cooking</td>\n",
       "      <td>https://raw.github.com/Kosty1703/picture-book/...</td>\n",
       "      <td>24740</td>\n",
       "      <td>24740 The best-selling authors of Looneyspoons...</td>\n",
       "    </tr>\n",
       "    <tr>\n",
       "      <th>3082</th>\n",
       "      <td>Prophet: A Novel</td>\n",
       "      <td>By Peretti, Frank E.</td>\n",
       "      <td>A top news anchor risks his job and his life t...</td>\n",
       "      <td>4.61</td>\n",
       "      <td>Religion</td>\n",
       "      <td>https://raw.github.com/Kosty1703/picture-book/...</td>\n",
       "      <td>63720</td>\n",
       "      <td>63720 A top news anchor risks his job and his ...</td>\n",
       "    </tr>\n",
       "    <tr>\n",
       "      <th>47376</th>\n",
       "      <td>The Bullpen Gospels: A Non-Prospect's Pursuit ...</td>\n",
       "      <td>By Hayhurst, Dirk</td>\n",
       "      <td>From the humble heights of a Class-A pitcher's...</td>\n",
       "      <td>4.61</td>\n",
       "      <td>Religion</td>\n",
       "      <td>https://raw.github.com/Kosty1703/picture-book/...</td>\n",
       "      <td>26395</td>\n",
       "      <td>26395 From the humble heights of a Class-A pit...</td>\n",
       "    </tr>\n",
       "    <tr>\n",
       "      <th>3475</th>\n",
       "      <td>Flashbacks: On Returning to Vietnam</td>\n",
       "      <td>By Safer, Morley</td>\n",
       "      <td>A noted television journalist records his impr...</td>\n",
       "      <td>4.77</td>\n",
       "      <td>History</td>\n",
       "      <td>https://raw.github.com/Kosty1703/picture-book/...</td>\n",
       "      <td>15726</td>\n",
       "      <td>15726 A noted television journalist records hi...</td>\n",
       "    </tr>\n",
       "  </tbody>\n",
       "</table>\n",
       "</div>"
      ],
      "text/plain": [
       "                                                   Title  \\\n",
       "51901                      Daily Learning Drills Grade 4   \n",
       "53513                         44 Charles Street: A Novel   \n",
       "41879  Whales on Stilts: M. T. Anderson's Thrilling T...   \n",
       "45846  Georgia's Land of the Golden Isles (Brown Thra...   \n",
       "55365  Life: Places of the Bible: A Photographic Pilg...   \n",
       "6258                      Beyond The Far Side (Volume 2)   \n",
       "49537  Crazy Plates: Low-Fat Food So Good, You'll Swe...   \n",
       "3082                                    Prophet: A Novel   \n",
       "47376  The Bullpen Gospels: A Non-Prospect's Pursuit ...   \n",
       "3475                 Flashbacks: On Returning to Vietnam   \n",
       "\n",
       "                                                 Authors  \\\n",
       "51901                                By Douglas, Vincent   \n",
       "53513                                 By Steel, Danielle   \n",
       "41879           By Anderson, M. T. and Cyrus, Kurt (ILT)   \n",
       "45846  By Vanstory, Burnette Lightle and Price, Eugen...   \n",
       "55365                          By Sullivan, Robert (EDT)   \n",
       "6258                                     By Larson, Gary   \n",
       "49537             By Podleski, Janet and Podleski, Greta   \n",
       "3082                                By Peretti, Frank E.   \n",
       "47376                                  By Hayhurst, Dirk   \n",
       "3475                                    By Safer, Morley   \n",
       "\n",
       "                                             Description  Rating  \\\n",
       "51901  Daily Learning Drills Grade 4 provides young l...    4.61   \n",
       "53513  A magical transformation takes place in Daniel...    4.49   \n",
       "41879  What sort of madman would unleash an army of s...    4.47   \n",
       "45846  Since it first appeared in 1956, Mrs. Vanstory...    4.49   \n",
       "55365  In this special keepsake volume, LIFE takes yo...    4.44   \n",
       "6258   The second The Far Side collection.1981, 1983 ...    5.00   \n",
       "49537  The best-selling authors of Looneyspoons prese...    4.20   \n",
       "3082   A top news anchor risks his job and his life t...    4.61   \n",
       "47376  From the humble heights of a Class-A pitcher's...    4.61   \n",
       "3475   A noted television journalist records his impr...    4.77   \n",
       "\n",
       "            Category                                               Link  \\\n",
       "51901     Nonfiction  https://raw.github.com/Kosty1703/picture-book/...   \n",
       "53513      Biography  https://raw.github.com/Kosty1703/picture-book/...   \n",
       "41879        Fiction  https://raw.github.com/Kosty1703/picture-book/...   \n",
       "45846        History  https://raw.github.com/Kosty1703/picture-book/...   \n",
       "55365       Religion  https://raw.github.com/Kosty1703/picture-book/...   \n",
       "6258   Art & Culture  https://raw.github.com/Kosty1703/picture-book/...   \n",
       "49537        Cooking  https://raw.github.com/Kosty1703/picture-book/...   \n",
       "3082        Religion  https://raw.github.com/Kosty1703/picture-book/...   \n",
       "47376       Religion  https://raw.github.com/Kosty1703/picture-book/...   \n",
       "3475         History  https://raw.github.com/Kosty1703/picture-book/...   \n",
       "\n",
       "       Number                                 Number_Description  \n",
       "51901   11134  11134 Daily Learning Drills Grade 4 provides y...  \n",
       "53513   31788  31788 A magical transformation takes place in ...  \n",
       "41879   17567  17567 What sort of madman would unleash an arm...  \n",
       "45846   30662  30662 Since it first appeared in 1956, Mrs. Va...  \n",
       "55365   19988  19988 In this special keepsake volume, LIFE ta...  \n",
       "6258    28934  28934 The second The Far Side collection.1981,...  \n",
       "49537   24740  24740 The best-selling authors of Looneyspoons...  \n",
       "3082    63720  63720 A top news anchor risks his job and his ...  \n",
       "47376   26395  26395 From the humble heights of a Class-A pit...  \n",
       "3475    15726  15726 A noted television journalist records hi...  "
      ]
     },
     "execution_count": 18,
     "metadata": {},
     "output_type": "execute_result"
    }
   ],
   "source": [
    "df_small_large.sample(10)"
   ]
  },
  {
   "cell_type": "code",
   "execution_count": 19,
   "metadata": {},
   "outputs": [
    {
     "name": "stdout",
     "output_type": "stream",
     "text": [
      "<class 'pandas.core.frame.DataFrame'>\n",
      "RangeIndex: 62902 entries, 0 to 62901\n",
      "Data columns (total 8 columns):\n",
      " #   Column              Non-Null Count  Dtype  \n",
      "---  ------              --------------  -----  \n",
      " 0   Title               62902 non-null  object \n",
      " 1   Authors             62902 non-null  object \n",
      " 2   Description         62902 non-null  object \n",
      " 3   Rating              62902 non-null  float64\n",
      " 4   Category            62902 non-null  object \n",
      " 5   Link                62902 non-null  object \n",
      " 6   Number              62902 non-null  int64  \n",
      " 7   Number_Description  62902 non-null  object \n",
      "dtypes: float64(1), int64(1), object(6)\n",
      "memory usage: 3.8+ MB\n"
     ]
    }
   ],
   "source": [
    "df_small_large.info()"
   ]
  },
  {
   "cell_type": "code",
   "execution_count": 20,
   "metadata": {},
   "outputs": [
    {
     "name": "stdout",
     "output_type": "stream",
     "text": [
      "Title                 61661\n",
      "Authors               39092\n",
      "Description           62814\n",
      "Rating                  221\n",
      "Category                 24\n",
      "Link                   4923\n",
      "Number                62902\n",
      "Number_Description    62902\n",
      "dtype: int64\n"
     ]
    }
   ],
   "source": [
    "print(df_small_large.nunique())"
   ]
  },
  {
   "cell_type": "code",
   "execution_count": 23,
   "metadata": {},
   "outputs": [
    {
     "name": "stdout",
     "output_type": "stream",
     "text": [
      "Series([], dtype: int64)\n"
     ]
    }
   ],
   "source": [
    "# маска. Количество пропусков\n",
    "null_d=df_small_large.isnull().sum()\n",
    "print(null_d[null_d>0])"
   ]
  },
  {
   "cell_type": "code",
   "execution_count": 25,
   "metadata": {},
   "outputs": [
    {
     "name": "stdout",
     "output_type": "stream",
     "text": [
      "Category\n",
      "Nonfiction          16401\n",
      "Fiction             14647\n",
      "Self-help            4194\n",
      "Biography            3242\n",
      "Adventure            3048\n",
      "History              2824\n",
      "Thriller             2710\n",
      "Religion             2161\n",
      "Fantasy              1513\n",
      "Technology           1345\n",
      "Cooking              1268\n",
      "Business             1237\n",
      "Art & Culture        1213\n",
      "Mystery              1123\n",
      "Juvenile Fiction     1061\n",
      "Romance               908\n",
      "Science               904\n",
      "Horror                730\n",
      "Politics              604\n",
      "Psychology            583\n",
      "Drama                 510\n",
      "Poetry                331\n",
      "Economics             197\n",
      "Paranormal            148\n",
      "Name: count, dtype: int64\n"
     ]
    }
   ],
   "source": [
    "# Получаем уникальные значения и их количество\n",
    "counts = df_small_large['Category'].value_counts()\n",
    "\n",
    "pd.set_option('display.max_rows', 30) # Показывать все строки без ограничения\n",
    "\n",
    "print(counts.head(30))"
   ]
  },
  {
   "cell_type": "code",
   "execution_count": 27,
   "metadata": {},
   "outputs": [
    {
     "name": "stdout",
     "output_type": "stream",
     "text": [
      "Найдено дубликатов: 176\n",
      "                                                   Title  \\\n",
      "419                                  West With The Night   \n",
      "741    Please Stop Laughing At Me...: One Woman's Ins...   \n",
      "769                       Hitty: Her First Hundred Years   \n",
      "910          The Angel Experiment (Maximum Ride, Book 1)   \n",
      "1128                                The Stones of Summer   \n",
      "...                                                  ...   \n",
      "62519                               The Stones of Summer   \n",
      "62663                                          Australia   \n",
      "62668                    Ecuador & the Galápagos Islands   \n",
      "62771          The Communist Manifesto. A Modern Edition   \n",
      "62880  The Best of America's Test Kitchen 2007. The Y...   \n",
      "\n",
      "                                                 Authors  \\\n",
      "419                                    By Markham, Beryl   \n",
      "741                                     By Blanco, Jodee   \n",
      "769                                     By Field, Rachel   \n",
      "910                                  By Patterson, James   \n",
      "1128                                     By Mossman, Dow   \n",
      "...                                                  ...   \n",
      "62519                                        Dow Mossman   \n",
      "62663  Paul Smitz;Carolyn Bain;Sandra Bao;Susannah Fa...   \n",
      "62668  Danny Palmerlee;Michael Grosberg;Carolyn McCarthy   \n",
      "62771                         Karl Marx;Friedrich Engels   \n",
      "62880                             America's Test Kitchen   \n",
      "\n",
      "                                             Description  Rating    Category  \\\n",
      "419    Describes growing up in an Africa that no long...    3.72  Technology   \n",
      "741    In her poignant work, Jodee Blanco tells how s...    4.05  Nonfiction   \n",
      "769    Hitty is a doll of great charm and character. ...    4.85     Fiction   \n",
      "910    In James Patterson's blockbuster series, fourt...    3.89     Fiction   \n",
      "1128   Originally published to glowing reviews in 197...    4.09     Fiction   \n",
      "...                                                  ...     ...         ...   \n",
      "62519  Originally published to glowing reviews in 197...    3.14     Fiction   \n",
      "62663  Complemented by easy-to use, reliable maps, he...    4.02  Nonfiction   \n",
      "62668  Describes the people, customs, geography, and ...    3.87  Nonfiction   \n",
      "62771  The political tract in which Marx presented th...    3.54    Politics   \n",
      "62880  Presents nearly one thousand recipes--from app...    4.34     Cooking   \n",
      "\n",
      "                                                    Link  Number  \\\n",
      "419    https://raw.github.com/Kosty1703/picture-book/...   37051   \n",
      "741    https://raw.github.com/Kosty1703/picture-book/...   63790   \n",
      "769    https://raw.github.com/Kosty1703/picture-book/...   38714   \n",
      "910    https://raw.github.com/Kosty1703/picture-book/...   30528   \n",
      "1128   https://raw.github.com/Kosty1703/picture-book/...   29380   \n",
      "...                                                  ...     ...   \n",
      "62519  http://books.google.com/books/content?id=-UsyP...     871   \n",
      "62663  http://books.google.com/books/content?id=nMMgn...    4930   \n",
      "62668  http://books.google.com/books/content?id=3l4dy...     523   \n",
      "62771  http://books.google.com/books/content?id=WwTCa...    5026   \n",
      "62880  http://books.google.com/books/content?id=tQ97A...    1520   \n",
      "\n",
      "                                      Number_Description  \n",
      "419    37051 Describes growing up in an Africa that n...  \n",
      "741    63790 In her poignant work, Jodee Blanco tells...  \n",
      "769    38714 Hitty is a doll of great charm and chara...  \n",
      "910    30528 In James Patterson's blockbuster series,...  \n",
      "1128   29380 Originally published to glowing reviews ...  \n",
      "...                                                  ...  \n",
      "62519  871 Originally published to glowing reviews in...  \n",
      "62663  4930 Complemented by easy-to use, reliable map...  \n",
      "62668  523 Describes the people, customs, geography, ...  \n",
      "62771  5026 The political tract in which Marx present...  \n",
      "62880  1520 Presents nearly one thousand recipes--fro...  \n",
      "\n",
      "[176 rows x 8 columns]\n"
     ]
    }
   ],
   "source": [
    "# Проверка на дубликаты по столбцам 'Description'\n",
    "duplicates = df_small_large[df_small_large.duplicated(subset=['Description'], keep=False)]\n",
    "\n",
    "# Вывод всех найденных дубликатов\n",
    "print(\"Найдено дубликатов:\", duplicates.shape[0])\n",
    "print(duplicates)"
   ]
  },
  {
   "cell_type": "code",
   "execution_count": 28,
   "metadata": {},
   "outputs": [],
   "source": [
    "# Удалим дубликаты по столбцам\n",
    "df_small_large = df_small_large.drop_duplicates(subset=['Description'])"
   ]
  },
  {
   "cell_type": "code",
   "execution_count": 29,
   "metadata": {},
   "outputs": [
    {
     "name": "stdout",
     "output_type": "stream",
     "text": [
      "Title                 61601\n",
      "Authors               39051\n",
      "Description           62814\n",
      "Rating                  221\n",
      "Category                 24\n",
      "Link                   4836\n",
      "Number                62814\n",
      "Number_Description    62814\n",
      "dtype: int64\n"
     ]
    }
   ],
   "source": [
    "print(df_small_large.nunique())"
   ]
  },
  {
   "cell_type": "code",
   "execution_count": 31,
   "metadata": {},
   "outputs": [],
   "source": [
    "# Сохраним итоговый датасет\n",
    "df_small_large.to_csv(\"Books_FINISH_04-05-25.csv\", index=False)"
   ]
  }
 ],
 "metadata": {
  "kernelspec": {
   "display_name": "Python 3",
   "language": "python",
   "name": "python3"
  },
  "language_info": {
   "codemirror_mode": {
    "name": "ipython",
    "version": 3
   },
   "file_extension": ".py",
   "mimetype": "text/x-python",
   "name": "python",
   "nbconvert_exporter": "python",
   "pygments_lexer": "ipython3",
   "version": "3.12.4"
  }
 },
 "nbformat": 4,
 "nbformat_minor": 2
}
